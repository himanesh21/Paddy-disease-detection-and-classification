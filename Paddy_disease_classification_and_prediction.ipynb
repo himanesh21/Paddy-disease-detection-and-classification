{
  "cells": [
    {
      "cell_type": "markdown",
      "metadata": {
        "id": "w-NtYCy-t5xg"
      },
      "source": [
        "# IMPORTS"
      ]
    },
    {
      "cell_type": "code",
      "execution_count": null,
      "metadata": {
        "id": "tgYNY2mnsW2Z"
      },
      "outputs": [],
      "source": [
        "import torch\n",
        "import pandas as pd\n",
        "import torch.nn.functional as F\n",
        "from torchvision.transforms import transforms\n",
        "from torch.utils.data import DataLoader\n",
        "from torchvision.datasets import ImageFolder"
      ]
    },
    {
      "cell_type": "markdown",
      "metadata": {
        "id": "tltC3drAdVTi"
      },
      "source": [
        "# Mounting Gdrive"
      ]
    },
    {
      "cell_type": "markdown",
      "metadata": {
        "id": "ynltVivt0Jna"
      },
      "source": [
        "# Dataframe"
      ]
    },
    {
      "cell_type": "code",
      "execution_count": null,
      "metadata": {
        "id": "I5M3uduB0L5v"
      },
      "outputs": [],
      "source": [
        "df=pd.read_csv('./paddy-dataset/train.csv')"
      ]
    },
    {
      "cell_type": "markdown",
      "metadata": {
        "id": "6jfXPpVqtoGC"
      },
      "source": [
        "# Checking Runtime Env"
      ]
    },
    {
      "cell_type": "code",
      "execution_count": null,
      "metadata": {
        "colab": {
          "base_uri": "https://localhost:8080/"
        },
        "id": "27dxjtE0tMoz",
        "outputId": "9621f41d-0e03-4fe4-fb76-d0fc887c5e2a"
      },
      "outputs": [
        {
          "name": "stdout",
          "output_type": "stream",
          "text": [
            "cuda\n"
          ]
        }
      ],
      "source": [
        "device = 'cuda'if torch.cuda.is_available() else 'cpu'\n",
        "print(device)"
      ]
    },
    {
      "cell_type": "markdown",
      "metadata": {
        "id": "OmFbzv520amS"
      },
      "source": [
        "# Preprocessing the Data"
      ]
    },
    {
      "cell_type": "code",
      "execution_count": null,
      "metadata": {
        "id": "_x-1ITB6uFZY"
      },
      "outputs": [],
      "source": [
        "import torchvision.transforms as transforms\n",
        "\n",
        "transform = transforms.Compose([\n",
        "    transforms.ToTensor(),\n",
        "    transforms.Resize((224, 224)),\n",
        "    transforms.RandomHorizontalFlip(True),\n",
        "    transforms.RandomVerticalFlip(True),\n",
        "    transforms.Normalize(mean=[0.485, 0.456, 0.406],std=[0.229, 0.224, 0.225]),\n",
        "    transforms.RandomAffine(degrees=5, shear=0.3, scale=(0.3, 0.7), translate=(0.05, 0.05)),\n",
        "])\n"
      ]
    },
    {
      "cell_type": "markdown",
      "metadata": {
        "id": "KJLAgcRzivix"
      },
      "source": [
        "# Loading the Dataset"
      ]
    },
    {
      "cell_type": "markdown",
      "metadata": {
        "id": "MPmOCIdipCNc"
      },
      "source": [
        "spliting the dataset"
      ]
    },
    {
      "cell_type": "code",
      "execution_count": null,
      "metadata": {
        "id": "vjK1YxR5pCNc"
      },
      "outputs": [],
      "source": [
        "import splitfolders as sf\n",
        "path='./paddy-dataset/train_images'\n",
        "sf.ratio(path,output='./splitted',ratio=(.8,.2,0),seed=1337)"
      ]
    },
    {
      "cell_type": "markdown",
      "metadata": {
        "id": "mpFxXkkopCNc"
      },
      "source": [
        "Preparing the dataset for loading into the DataLoader"
      ]
    },
    {
      "cell_type": "code",
      "execution_count": null,
      "metadata": {
        "id": "MgydW5QcpCNd"
      },
      "outputs": [],
      "source": [
        "training_ds=ImageFolder('./splitted/train/',transform=transform)\n",
        "testing_ds=ImageFolder('./splitted/val/',transform=transform)"
      ]
    },
    {
      "cell_type": "code",
      "execution_count": null,
      "metadata": {
        "id": "Cu96GB8Pj1K4",
        "outputId": "9b75c187-e28a-4483-e24c-b1cca934a184"
      },
      "outputs": [
        {
          "name": "stdout",
          "output_type": "stream",
          "text": [
            "521 130\n"
          ]
        }
      ],
      "source": [
        "train_loader = DataLoader(training_ds, batch_size=16, shuffle=True)\n",
        "test_loader = DataLoader(testing_ds, batch_size=16, shuffle=False)\n",
        "print(len(train_loader),len(test_loader))"
      ]
    },
    {
      "cell_type": "markdown",
      "metadata": {
        "id": "4WFuKIo0pCNd"
      },
      "source": [
        "Importing the Model"
      ]
    },
    {
      "cell_type": "code",
      "execution_count": null,
      "metadata": {
        "colab": {
          "base_uri": "https://localhost:8080/"
        },
        "id": "XUmRK5973zVR",
        "outputId": "a6a91a3d-25bd-4a98-e5c1-46c3fbac71b7"
      },
      "outputs": [
        {
          "name": "stderr",
          "output_type": "stream",
          "text": [
            "d:\\PYthon\\Lib\\site-packages\\torchvision\\models\\_utils.py:208: UserWarning: The parameter 'pretrained' is deprecated since 0.13 and may be removed in the future, please use 'weights' instead.\n",
            "  warnings.warn(\n",
            "d:\\PYthon\\Lib\\site-packages\\torchvision\\models\\_utils.py:223: UserWarning: Arguments other than a weight enum or `None` for 'weights' are deprecated since 0.13 and may be removed in the future. The current behavior is equivalent to passing `weights=MobileNet_V2_Weights.IMAGENET1K_V1`. You can also use `weights=MobileNet_V2_Weights.DEFAULT` to get the most up-to-date weights.\n",
            "  warnings.warn(msg)\n"
          ]
        }
      ],
      "source": [
        "from torchvision.models import vgg16\n",
        "model = vgg16(pretrained=True)"
      ]
    },
    {
      "cell_type": "markdown",
      "metadata": {
        "id": "diHAFSGHpCNd"
      },
      "source": [
        "MOdifying the last linear layer of the model based on the number classes"
      ]
    },
    {
      "cell_type": "markdown",
      "metadata": {
        "id": "dtNW2hi7pCNe"
      },
      "source": [
        "Preparing for training the Model"
      ]
    },
    {
      "cell_type": "code",
      "execution_count": null,
      "metadata": {
        "id": "GCHlesoA4FYK"
      },
      "outputs": [],
      "source": [
        "import torch.nn as nn\n",
        "num_classes = len(df['label'].unique())\n",
        "model.classifier[-1] = nn.Linear(in_features=model.classifier[-1].in_features, out_features=num_classes)"
      ]
    },
    {
      "cell_type": "code",
      "execution_count": null,
      "metadata": {
        "id": "nhv5p6Yx4Rrg"
      },
      "outputs": [],
      "source": [
        "import torch.optim as optim\n",
        "# Define loss function and optimizer\n",
        "criterion = nn.CrossEntropyLoss()\n",
        "optimizer = optim.Adam(model.parameters(), lr=3e-4)"
      ]
    },
    {
      "cell_type": "markdown",
      "metadata": {
        "id": "EavkCVAfpCNe"
      },
      "source": [
        "training the model"
      ]
    },
    {
      "cell_type": "code",
      "execution_count": null,
      "metadata": {
        "colab": {
          "base_uri": "https://localhost:8080/",
          "height": 371
        },
        "id": "lTmTuCoT4cLZ",
        "outputId": "68a7c0b4-1a7f-48f5-dfcf-1cb0a952321b"
      },
      "outputs": [
        {
          "name": "stdout",
          "output_type": "stream",
          "text": [
            "epoch= 0 completed\n",
            "epoch= 1 completed\n",
            "epoch= 2 completed\n",
            "epoch= 3 completed\n",
            "epoch= 4 completed\n",
            "epoch= 5 completed\n",
            "epoch= 6 completed\n"
          ]
        }
      ],
      "source": [
        "for epoch in range(20):  # loop over the dataset multiple times\n",
        "    for i, data in enumerate(train_loader, 0):\n",
        "        # get the inputs; data is a list of [inputs, labels]\n",
        "        inputs, labels = data\n",
        "        # inputs=inputs.view(-1,224*224*3)\n",
        "\n",
        "        # zero the parameter gradients\n",
        "        optimizer.zero_grad()\n",
        "\n",
        "        # forward + backward + optimize\n",
        "        outputs = model(inputs)\n",
        "        loss = criterion(outputs, labels)\n",
        "        loss.backward()\n",
        "        optimizer.step()\n",
        "    print('epoch=',epoch,'completed')\n",
        "print('Finished Training')"
      ]
    },
    {
      "cell_type": "markdown",
      "metadata": {
        "id": "DeEmFUUTpCNf"
      },
      "source": [
        "testing the model's Accuracy"
      ]
    },
    {
      "cell_type": "code",
      "execution_count": null,
      "metadata": {
        "id": "sBz-6__zpCNf"
      },
      "outputs": [],
      "source": [
        "correct = 0\n",
        "total = 0\n",
        "predictions=[]\n",
        "model.eval()\n",
        "for i,data in enumerate(test_loader,0):\n",
        "        images, labels = data\n",
        "        # calculate outputs by running images through the network\n",
        "        outputs = model(images)\n",
        "        # the class with the highest energy is what we choose as prediction\n",
        "        _, predicted = torch.max(outputs.data, 1)\n",
        "        predictions.append(outputs)\n",
        "        total += labels.size(0)\n",
        "        correct += (predicted == labels).sum().item()\n",
        "\n",
        "print(f'Accuracy of the network on the  test images: {100 * correct // total} %')"
      ]
    },
    {
      "cell_type": "markdown",
      "metadata": {
        "id": "rTnbqRKZpCNf"
      },
      "source": [
        "Saved the trained parameters for later use"
      ]
    },
    {
      "cell_type": "code",
      "execution_count": null,
      "metadata": {
        "id": "K7AAC9rRpCNf"
      },
      "outputs": [],
      "source": [
        "torch.save(model.state_dict(),f='mobilenet_v2_paddy_states')"
      ]
    }
  ],
  "metadata": {
    "accelerator": "TPU",
    "colab": {
      "provenance": []
    },
    "kernelspec": {
      "display_name": "Python 3",
      "name": "python3"
    },
    "language_info": {
      "codemirror_mode": {
        "name": "ipython",
        "version": 3
      },
      "file_extension": ".py",
      "mimetype": "text/x-python",
      "name": "python",
      "nbconvert_exporter": "python",
      "pygments_lexer": "ipython3",
      "version": "3.12.2"
    }
  },
  "nbformat": 4,
  "nbformat_minor": 0
}